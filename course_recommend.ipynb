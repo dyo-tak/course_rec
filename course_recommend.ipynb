{
  "cells": [
    {
      "cell_type": "code",
      "execution_count": 23,
      "metadata": {
        "id": "dSSj-stLr2rd"
      },
      "outputs": [],
      "source": [
        "import pandas as pd \n",
        "from sklearn.feature_extraction.text import CountVectorizer\n",
        "from sklearn.metrics.pairwise import cosine_similarity,linear_kernel\n",
        "import json"
      ]
    },
    {
      "cell_type": "code",
      "execution_count": 24,
      "metadata": {
        "id": "DgFYjXvjr5QY"
      },
      "outputs": [],
      "source": [
        "def load_data(data):\n",
        "\tdf = pd.read_csv(data)\n",
        "\treturn df "
      ]
    },
    {
      "cell_type": "code",
      "execution_count": 25,
      "metadata": {
        "id": "CBS9R9KesOM3"
      },
      "outputs": [],
      "source": [
        "def vectorize_text_to_cosine_mat(data):\n",
        "\tcount_vect = CountVectorizer()\n",
        "\tcv_mat = count_vect.fit_transform(data)\n",
        " \n",
        "\tcosine_sim_mat = cosine_similarity(cv_mat)\n",
        "\treturn cosine_sim_mat"
      ]
    },
    {
      "cell_type": "code",
      "execution_count": 26,
      "metadata": {
        "id": "iViLSI9LsQ_j"
      },
      "outputs": [],
      "source": [
        "def get_recommendation(title,cosine_sim_mat,df,num_of_rec=10):\n",
        "\n",
        "\tcourse_indices = pd.Series(df.index,index=df['course_title']).drop_duplicates()\n",
        "\n",
        "\tidx = course_indices[title]\n",
        "\n",
        "\tsim_scores =list(enumerate(cosine_sim_mat[idx]))\n",
        "\tsim_scores = sorted(sim_scores,key=lambda x: x[1],reverse=True)\n",
        "\tselected_course_indices = [i[0] for i in sim_scores[1:]]\n",
        "\tselected_course_scores = [i[0] for i in sim_scores[1:]]\n",
        "\n",
        "\tresult_df = df.iloc[selected_course_indices]\n",
        "\tresult_df['similarity_score'] = selected_course_scores\n",
        "\tfinal_recommended_courses = result_df[['course_title','similarity_score','url','price','num_subscribers']]\n",
        "\treturn final_recommended_courses.head(num_of_rec)"
      ]
    },
    {
      "cell_type": "code",
      "execution_count": 27,
      "metadata": {
        "id": "rQxoXYwdsUxO"
      },
      "outputs": [],
      "source": [
        "def search_term_if_not_found(term,df):\n",
        "\tresult_df = df[df['course_title'].str.contains(term)]\n",
        "\treturn result_df"
      ]
    },
    {
      "cell_type": "code",
      "execution_count": 28,
      "metadata": {
        "id": "ZEB6tm1TsVlf"
      },
      "outputs": [],
      "source": [
        "def predict_course(search_term):\n",
        "  df = load_data(\"udemy_course_data.csv\")\n",
        "  cosine_sim_mat = vectorize_text_to_cosine_mat(df['course_title'])\n",
        "  num_of_rec = 7\n",
        "  if search_term is not None:\n",
        "        try:\n",
        "          results = get_recommendation(search_term,cosine_sim_mat,df,num_of_rec)\n",
        "          jresult = json.dump(results)\n",
        "          return jresult\n",
        "        except:\n",
        "          results= \"Not Found\"\n",
        "          result_df = search_term_if_not_found(search_term,df)\n",
        "          result_df = result_df.to_json()\n",
        "          jresultx = json.dumps(result_df)\n",
        "          return jresultx\n",
        "\n",
        "\n",
        "      "
      ]
    },
    {
      "cell_type": "code",
      "execution_count": null,
      "metadata": {
        "colab": {
          "base_uri": "https://localhost:8080/"
        },
        "id": "lI8Ty52OuEkl",
        "outputId": "7d2b4e75-3d0c-4c8a-ef2d-19b0098cdd64"
      },
      "outputs": [],
      "source": [
        "result = predict_course(\"Stock\")\n",
        "print(result)"
      ]
    },
    {
      "cell_type": "code",
      "execution_count": 30,
      "metadata": {},
      "outputs": [],
      "source": [
        "import pickle\n",
        "\n",
        "with open('predict_course.pkl', 'wb') as f:\n",
        "    pickle.dump(predict_course, f)\n"
      ]
    },
    {
      "cell_type": "code",
      "execution_count": 31,
      "metadata": {},
      "outputs": [
        {
          "ename": "AttributeError",
          "evalue": "'function' object has no attribute 'predict_course'",
          "output_type": "error",
          "traceback": [
            "\u001b[1;31m---------------------------------------------------------------------------\u001b[0m",
            "\u001b[1;31mAttributeError\u001b[0m                            Traceback (most recent call last)",
            "\u001b[1;32m~\\AppData\\Local\\Temp\\ipykernel_21212\\1880129601.py\u001b[0m in \u001b[0;36m<module>\u001b[1;34m\u001b[0m\n\u001b[0;32m      1\u001b[0m \u001b[0mmodel\u001b[0m \u001b[1;33m=\u001b[0m \u001b[0mpickle\u001b[0m\u001b[1;33m.\u001b[0m\u001b[0mload\u001b[0m\u001b[1;33m(\u001b[0m\u001b[0mopen\u001b[0m\u001b[1;33m(\u001b[0m\u001b[1;34m'predict_course.pkl'\u001b[0m\u001b[1;33m,\u001b[0m \u001b[1;34m'rb'\u001b[0m\u001b[1;33m)\u001b[0m\u001b[1;33m)\u001b[0m\u001b[1;33m\u001b[0m\u001b[1;33m\u001b[0m\u001b[0m\n\u001b[1;32m----> 2\u001b[1;33m \u001b[0mmodel\u001b[0m\u001b[1;33m.\u001b[0m\u001b[0mpredict_course\u001b[0m\u001b[1;33m(\u001b[0m\u001b[1;34m\"Stock\"\u001b[0m\u001b[1;33m)\u001b[0m\u001b[1;33m\u001b[0m\u001b[1;33m\u001b[0m\u001b[0m\n\u001b[0m",
            "\u001b[1;31mAttributeError\u001b[0m: 'function' object has no attribute 'predict_course'"
          ]
        }
      ],
      "source": [
        "model = pickle.load(open('predict_course.pkl', 'rb'))\n",
        "model.predict_course(\"Stock\")"
      ]
    }
  ],
  "metadata": {
    "colab": {
      "provenance": []
    },
    "kernelspec": {
      "display_name": "base",
      "language": "python",
      "name": "python3"
    },
    "language_info": {
      "codemirror_mode": {
        "name": "ipython",
        "version": 3
      },
      "file_extension": ".py",
      "mimetype": "text/x-python",
      "name": "python",
      "nbconvert_exporter": "python",
      "pygments_lexer": "ipython3",
      "version": "3.9.16"
    },
    "vscode": {
      "interpreter": {
        "hash": "32e3ff221e6a5834a795f424eadbb9ac5cede9e07e48bdda432a4ec466d810f6"
      }
    }
  },
  "nbformat": 4,
  "nbformat_minor": 0
}
